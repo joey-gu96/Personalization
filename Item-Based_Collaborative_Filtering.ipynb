{
 "cells": [
  {
   "cell_type": "markdown",
   "metadata": {},
   "source": [
    "## Item-Based Collaborative Filtering\n",
    "    - Implement item-based collaborative filtering algorithm with MovieLens dataset"
   ]
  },
  {
   "cell_type": "code",
   "execution_count": 1,
   "metadata": {},
   "outputs": [],
   "source": [
    "import pandas as pd\n",
    "import numpy as np\n",
    "import matplotlib.pyplot as plt\n",
    "from surprise import Dataset, evaluate\n",
    "from surprise import KNNBasic, KNNBaseline\n",
    "from surprise import Reader\n",
    "from surprise import accuracy\n"
   ]
  },
  {
   "cell_type": "code",
   "execution_count": 2,
   "metadata": {},
   "outputs": [],
   "source": [
    "ratings = pd.read_csv(\"ratings.csv\", usecols = ['userId', 'movieId', 'rating'])\n",
    "\n",
    "reader = Reader(rating_scale=(1, 5))\n",
    "#ratings_small = ratings.sample(frac = 0.1)\n",
    "\n",
    "\n",
    "#ratings_training = ratings_small.sample(frac=0.7)\n",
    "#ratings_test = ratings_small.drop(ratings_training.index)\n",
    "\n",
    "#split the data into training and test set (70-30)\n",
    "ratings_training = ratings.sample(frac=0.7, random_state = 4571)\n",
    "ratings_test = ratings.drop(ratings_training.index)\n",
    "\n",
    "training = Dataset.load_from_df(ratings_training,reader)\n",
    "test = Dataset.load_from_df(ratings_test, reader)                                   \n",
    "                                   \n",
    "ratings_training = training.build_full_trainset()                                   "
   ]
  },
  {
   "cell_type": "markdown",
   "metadata": {},
   "source": [
    "## Neighborhood-based Collaborative Filtering\n",
    "    - build item-based CF algorithm\n",
    "    - apply different similarity metrics\n",
    "        * Pearson Baseline\n",
    "        * Pearson Correlation\n",
    "        * Cosine Similarity\n",
    "    - evaluation \n",
    "        * cross-validation\n",
    "        * accuracy on training and test set data\n",
    "            a. RMSE\n",
    "            b. MAE\n",
    "        * coverage\n",
    "            a. catalog-coverage\n",
    "            b. user-coverage\n",
    "            c. item-coverage"
   ]
  },
  {
   "cell_type": "code",
   "execution_count": 3,
   "metadata": {},
   "outputs": [],
   "source": [
    "from math import sqrt\n",
    "def compute_RMSE(pred, original):\n",
    "    n = len(pred)\n",
    "    RMSE = sqrt(sum((pred-original)**2)/n)\n",
    "    return RMSE"
   ]
  },
  {
   "cell_type": "code",
   "execution_count": 4,
   "metadata": {},
   "outputs": [],
   "source": [
    "def compute_MAE(pred, original):\n",
    "    n = len(pred)\n",
    "    MAE = sum(abs(original - pred))/n\n",
    "    return MAE"
   ]
  },
  {
   "cell_type": "code",
   "execution_count": 5,
   "metadata": {},
   "outputs": [
    {
     "name": "stdout",
     "output_type": "stream",
     "text": [
      "Estimating biases using als...\n",
      "Computing the pearson_baseline similarity matrix...\n",
      "Done computing similarity matrix.\n",
      "Computing the pearson similarity matrix...\n",
      "Done computing similarity matrix.\n",
      "Computing the cosine similarity matrix...\n",
      "Done computing similarity matrix.\n",
      "Estimating biases using als...\n",
      "Computing the pearson_baseline similarity matrix...\n",
      "Done computing similarity matrix.\n",
      "Computing the pearson similarity matrix...\n",
      "Done computing similarity matrix.\n",
      "Computing the cosine similarity matrix...\n",
      "Done computing similarity matrix.\n",
      "Estimating biases using als...\n",
      "Computing the pearson_baseline similarity matrix...\n",
      "Done computing similarity matrix.\n",
      "Computing the pearson similarity matrix...\n",
      "Done computing similarity matrix.\n",
      "Computing the cosine similarity matrix...\n",
      "Done computing similarity matrix.\n",
      "Estimating biases using als...\n",
      "Computing the pearson_baseline similarity matrix...\n",
      "Done computing similarity matrix.\n",
      "Computing the pearson similarity matrix...\n",
      "Done computing similarity matrix.\n",
      "Computing the cosine similarity matrix...\n",
      "Done computing similarity matrix.\n",
      "Estimating biases using als...\n",
      "Computing the pearson_baseline similarity matrix...\n",
      "Done computing similarity matrix.\n",
      "Computing the pearson similarity matrix...\n",
      "Done computing similarity matrix.\n",
      "Computing the cosine similarity matrix...\n",
      "Done computing similarity matrix.\n",
      "RMSE of Pearson Baseline:  [0.9641, 0.9337, 0.9206, 0.918, 0.9176]\n",
      "RMSE of Pearson: [1.0546, 1.0101, 0.9844, 0.9743, 0.9693]\n",
      "RMSE of cosine: [1.062, 1.0192, 0.9933, 0.9812, 0.9742]\n",
      "MAE of Pearson Baseline:  [0.728, 0.7072, 0.6974, 0.6955, 0.6955]\n",
      "MAE of Pearson: [0.8201, 0.7854, 0.7645, 0.7561, 0.7512]\n",
      "MAE of cosine: [0.8269, 0.7952, 0.7749, 0.7645, 0.7589]\n"
     ]
    }
   ],
   "source": [
    "#try three different similarity metrics\n",
    "sim_options_pb = {'name': 'pearson_baseline', 'user_based': False}\n",
    "sim_options_p = {'name': 'pearson', 'user_based': False}\n",
    "sim_options_cos = {'name': 'cosine', 'user_based': False}\n",
    "\n",
    "#create a list of max-k\n",
    "num_k = [5, 10, 20, 30, 40]\n",
    "\n",
    "#initialize lists for RMSE and MAE\n",
    "RMSE_pb = []\n",
    "RMSE_p = []\n",
    "RMSE_cos = []\n",
    "\n",
    "MAE_pb = []\n",
    "MAE_p = []\n",
    "MAE_cos = []\n",
    "\n",
    "for k in num_k:\n",
    "    #train three models\n",
    "    knn_pb = KNNBasic(sim_options = sim_options_pb, k = k)\n",
    "    knn_p = KNNBasic(sim_options = sim_options_p, k = k)\n",
    "    knn_cos = KNNBasic(sim_options = sim_options_cos, k = k)\n",
    "    knn_pb.fit(ratings_training)\n",
    "    knn_p.fit(ratings_training)\n",
    "    knn_cos.fit(ratings_training)\n",
    "    \n",
    "    #prediction for test set\n",
    "    ratings_test['predRatings_Pearson_baseline'] = \"\"\n",
    "    ratings_test['predRatings_Pearson'] = \"\"\n",
    "    ratings_test['predRatings_Cosine'] = \"\"\n",
    "    \n",
    "    for i in range(len(ratings_test)):\n",
    "        uid = ratings_test.iloc[i,0]\n",
    "        iid = ratings_test.iloc[i,1]\n",
    "        rui = ratings_test.iloc[i,2]\n",
    "        #pred = knn.predict(uid, iid, r_ui = 4, verbose = True)\n",
    "        pred_pb = knn_pb.predict(uid, iid, r_ui = rui)\n",
    "        pred_p = knn_p.predict(uid, iid, r_ui = rui)\n",
    "        pred_cos = knn_cos.predict(uid, iid, r_ui = rui)\n",
    "        #print(pred.est)\n",
    "        ratings_test.iloc[i,3] = round(pred_pb.est,1)\n",
    "        ratings_test.iloc[i,4] = round(pred_p.est,1)\n",
    "        ratings_test.iloc[i,5] = round(pred_cos.est,1)\n",
    "    \n",
    "    #calculate RMSE\n",
    "    rmse_pb = compute_RMSE(ratings_test.iloc[:,2], ratings_test.iloc[:,3])\n",
    "    rmse_p = compute_RMSE(ratings_test.iloc[:,2], ratings_test.iloc[:,4])\n",
    "    rmse_cos = compute_RMSE(ratings_test.iloc[:,2], ratings_test.iloc[:,5])\n",
    "    \n",
    "    RMSE_pb.append(round(rmse_pb,4))\n",
    "    RMSE_p.append(round(rmse_p,4))\n",
    "    RMSE_cos.append(round(rmse_cos,4))\n",
    "    \n",
    "     #calculate MAE\n",
    "    mae_pb = compute_MAE(ratings_test.iloc[:,2], ratings_test.iloc[:,3])\n",
    "    mae_p = compute_MAE(ratings_test.iloc[:,2], ratings_test.iloc[:,4])\n",
    "    mae_cos = compute_MAE(ratings_test.iloc[:,2], ratings_test.iloc[:,5])\n",
    "    \n",
    "    MAE_pb.append(round(mae_pb,4))\n",
    "    MAE_p.append(round(mae_p,4))\n",
    "    MAE_cos.append(round(mae_cos,4))\n",
    "    \n",
    "\n",
    "print('RMSE of Pearson Baseline: ', RMSE_pb)\n",
    "print('RMSE of Pearson:', RMSE_p)\n",
    "print('RMSE of cosine:', RMSE_cos)\n",
    "\n",
    "\n",
    "print('MAE of Pearson Baseline: ', MAE_pb)\n",
    "print('MAE of Pearson:', MAE_p)\n",
    "print('MAE of cosine:', MAE_cos)"
   ]
  },
  {
   "cell_type": "code",
   "execution_count": 6,
   "metadata": {},
   "outputs": [
    {
     "data": {
      "image/png": "[encoded data removed]",
      "text/plain": [
       "<Figure size 720x360 with 1 Axes>"
      ]
     },
     "metadata": {
      "needs_background": "light"
     },
     "output_type": "display_data"
    }
   ],
   "source": [
    "#plot RMSE and MAE for three similarity metrics\n",
    "\n",
    "RMSE = pd.DataFrame(\n",
    "    {'Number_of_K': num_k,\n",
    "     'Pearson Baseline': RMSE_pb,\n",
    "     'Pearson': RMSE_p,\n",
    "     'Cosine': RMSE_cos   \n",
    "    })\n",
    "fig = RMSE.plot(x = 'Number_of_K', y = ['Pearson Baseline', 'Pearson', 'Cosine'],figsize = (10,5), grid = True, title = \"RMSE of Similarity Metrics\")\n",
    "\n",
    "plt.show()"
   ]
  },
  {
   "cell_type": "code",
   "execution_count": 7,
   "metadata": {},
   "outputs": [
    {
     "data": {
      "image/png": "[encoded data removed]",
      "text/plain": [
       "<Figure size 720x360 with 1 Axes>"
      ]
     },
     "metadata": {
      "needs_background": "light"
     },
     "output_type": "display_data"
    }
   ],
   "source": [
    "MAE = pd.DataFrame(\n",
    "    {'Number_of_K': num_k,\n",
    "     'Pearson Baseline': MAE_pb,\n",
    "     'Pearson': MAE_p,\n",
    "     'Cosine': MAE_cos   \n",
    "    })\n",
    "fig = MAE.plot(x = 'Number_of_K', y = ['Pearson Baseline', 'Pearson', 'Cosine'],figsize = (10,5), grid = True, title = \"MAE of Similarity Metrics\")\n",
    "#fig.ylabel('RMSE')\n",
    "#fig.xlabel('Number of K')\n",
    "plt.show()"
   ]
  },
  {
   "cell_type": "markdown",
   "metadata": {},
   "source": [
    "Pearson Baseline provides the lowest RMSE and MAE."
   ]
  },
  {
   "cell_type": "markdown",
   "metadata": {},
   "source": [
    "## Cross-validation \n",
    "\n",
    "    - Use cross-validation to get a mean error on the training set.\n",
    "    "
   ]
  },
  {
   "cell_type": "code",
   "execution_count": 10,
   "metadata": {},
   "outputs": [],
   "source": [
    "def k_fold_cv(train, k):\n",
    "    \"\"\"\n",
    "    input: \n",
    "        train - dataframe of training set\n",
    "        k - number of folds we choose for cross-validation\n",
    "        \n",
    "    output:\n",
    "        mean_error - mean error genereated by cross-validation\n",
    "    \"\"\"\n",
    "    # scikit-learn k-fold cross-validation\n",
    "    from sklearn.model_selection import KFold\n",
    "    kfold = KFold(k, True, 4571)\n",
    "    sim_options_pb = {'name': 'pearson_baseline', 'user_based': False}\n",
    "    reader = Reader(rating_scale=(1, 5))\n",
    "    cv_rmse = []\n",
    "    # enumerate splits\n",
    "    for training, test in kfold.split(train):\n",
    "        training = list(training)\n",
    "        training = train.iloc[training, :]\n",
    "        test = train.iloc[test, :]\n",
    "\n",
    "        training = Dataset.load_from_df(training,reader)\n",
    "        #test = Dataset.load_from_df(test, reader)  \n",
    "        \n",
    "        training = training.build_full_trainset()\n",
    "        \n",
    "        knn_pb = KNNBasic(sim_options = sim_options_pb)\n",
    "        knn_pb.fit(training)\n",
    "        #prediction for test set\n",
    "        test['pred'] = \"\"\n",
    "        \n",
    "        for i in range(len(test)):\n",
    "            uid = test.iloc[i,0]\n",
    "            iid = test.iloc[i,1]\n",
    "            rui = test.iloc[i,2]\n",
    "            pred_pb = knn_pb.predict(uid, iid, r_ui = rui)\n",
    "            test.iloc[i,3] = round(pred_pb.est,1)\n",
    "\n",
    "        #calculate RMSE\n",
    "        rmse_pb = compute_RMSE(test.iloc[:,2], test.iloc[:,3])\n",
    "        cv_rmse.append(round(rmse_pb,4))\n",
    "        \n",
    "    #calculate the mean error\n",
    "    mean_error = sum(cv_rmse)/len(cv_rmse)\n",
    "    return round(mean_error, 4)\n",
    "\n"
   ]
  },
  {
   "cell_type": "code",
   "execution_count": 11,
   "metadata": {},
   "outputs": [
    {
     "name": "stdout",
     "output_type": "stream",
     "text": [
      "Estimating biases using als...\n",
      "Computing the pearson_baseline similarity matrix...\n",
      "Done computing similarity matrix.\n"
     ]
    },
    {
     "name": "stderr",
     "output_type": "stream",
     "text": [
      "/anaconda3/lib/python3.7/site-packages/ipykernel_launcher.py:30: SettingWithCopyWarning: \n",
      "A value is trying to be set on a copy of a slice from a DataFrame.\n",
      "Try using .loc[row_indexer,col_indexer] = value instead\n",
      "\n",
      "See the caveats in the documentation: http://pandas.pydata.org/pandas-docs/stable/indexing.html#indexing-view-versus-copy\n",
      "/anaconda3/lib/python3.7/site-packages/pandas/core/indexing.py:543: SettingWithCopyWarning: \n",
      "A value is trying to be set on a copy of a slice from a DataFrame.\n",
      "Try using .loc[row_indexer,col_indexer] = value instead\n",
      "\n",
      "See the caveats in the documentation: http://pandas.pydata.org/pandas-docs/stable/indexing.html#indexing-view-versus-copy\n",
      "  self.obj[item] = s\n"
     ]
    },
    {
     "name": "stdout",
     "output_type": "stream",
     "text": [
      "Estimating biases using als...\n",
      "Computing the pearson_baseline similarity matrix...\n",
      "Done computing similarity matrix.\n",
      "Estimating biases using als...\n",
      "Computing the pearson_baseline similarity matrix...\n",
      "Done computing similarity matrix.\n",
      "Mean error of cross-validation is:  0.9622\n"
     ]
    }
   ],
   "source": [
    "#calculate training error using cross-validation\n",
    "ratings_training = ratings.sample(frac=0.7, random_state = 4571)\n",
    "mean_error = k_fold_cv(ratings_training, 3)\n",
    "print(\"Mean error of cross-validation is: \", round(mean_error, 4))"
   ]
  },
  {
   "cell_type": "markdown",
   "metadata": {},
   "source": [
    "### Coverage on training and test data\n",
    "    \n",
    "    In this case, we define an item is well-recommended if the recommended item has a rating greater than or equal to 4.5 given by this user in the test set.\n",
    "    \n",
    "    - item coverage:\n",
    "        n = number of well-recommended items included in the recommedation list\n",
    "        N = total number of potential items\n",
    "        \n",
    "        C_item = n/N * 100\n",
    "        \n",
    "    - User coverage:\n",
    "        u = number of users for whom the recommender system was able to recommended at least k items well. \n",
    "        U = total number of potential users\n",
    "        \n",
    "        C_user = u/U * 100\n",
    "        \n",
    "    - Catalog coverage:\n",
    "        T = number of items that are in the top-k for at least 1 user\n",
    "        N = total number of potential items\n",
    "        \n",
    "        C_interaction = T/N * 100"
   ]
  },
  {
   "cell_type": "code",
   "execution_count": 12,
   "metadata": {},
   "outputs": [],
   "source": [
    "from collections import defaultdict\n",
    "\n",
    "def get_topN_recommendations(predictions, topN = 3):\n",
    "    \"\"\"\n",
    "    Input: predictions: predict results from KNNBasic.test()\n",
    "           topN: number of recommendations requested\n",
    "           \n",
    "    Output: top_recs: dictionary of top N recommendations for each user\n",
    "    \"\"\"\n",
    "    top_recs = defaultdict(list)\n",
    "    for uid, iid, true_r, est, _ in predictions:\n",
    "        top_recs[uid].append((iid, est))\n",
    "        \n",
    "    for uid, user_ratings in top_recs.items():\n",
    "        user_ratings.sort(key = lambda x: x[1], reverse = True)\n",
    "        top_recs[uid] = user_ratings[:topN]\n",
    "        \n",
    "    return top_recs"
   ]
  },
  {
   "cell_type": "code",
   "execution_count": 13,
   "metadata": {},
   "outputs": [
    {
     "name": "stdout",
     "output_type": "stream",
     "text": [
      "Estimating biases using als...\n",
      "Computing the pearson_baseline similarity matrix...\n",
      "Done computing similarity matrix.\n"
     ]
    }
   ],
   "source": [
    "ratings_training = training.build_full_trainset()   \n",
    "knn_pb = KNNBasic(sim_options = sim_options_pb)\n",
    "knn_pb.fit(ratings_training)\n",
    "\n",
    "testset = ratings_training.build_anti_testset()\n",
    "\n",
    "\n",
    "train_knn = knn_pb.test(ratings_training.build_testset())\n",
    "test_knn = knn_pb.test(testset)\n"
   ]
  },
  {
   "cell_type": "code",
   "execution_count": 14,
   "metadata": {},
   "outputs": [],
   "source": [
    "testset = test.build_full_trainset()   \n",
    "test_knn = knn_pb.test(testset.build_testset())"
   ]
  },
  {
   "cell_type": "code",
   "execution_count": 15,
   "metadata": {},
   "outputs": [],
   "source": [
    "#get the number of items in training and test\n",
    "\n",
    "def get_inumber(predictions):\n",
    "    '''Return the the number of items from a set of predictions.\n",
    "\n",
    "    Args:\n",
    "        predictions(list of Prediction objects): The list of predictions, as\n",
    "            returned by the test method of an algorithm.\n",
    "    \n",
    "    Returns:\n",
    "    An integer presenting the number of items\n",
    "    '''\n",
    "    \n",
    "    #create a list to store items\n",
    "    total_items = []\n",
    "    for uid, iid, true_r, est, _ in predictions:\n",
    "        if iid not in total_items:\n",
    "            total_items.append(iid)\n",
    "    \n",
    "    #return the length of list\n",
    "    num_items = len(total_items)\n",
    "    \n",
    "    return num_items\n",
    "\n",
    "#in_train_knn = get_inumber(train_knn)\n",
    "#in_test_knn = get_inumber(test_knn)\n",
    "#print(\"Number of items in training set:\", in_train_knn)\n",
    "#print(\"Number of items in test set:\", in_test_knn)\n",
    "\n",
    "\n",
    "\n",
    "#get the number of users in training and test\n",
    "def get_unumber(predictions):\n",
    "    '''Return the the number of users from a set of predictions.\n",
    "\n",
    "    Args:\n",
    "        predictions(list of Prediction objects): The list of predictions, as\n",
    "            returned by the test method of an algorithm.\n",
    "    \n",
    "    Returns:\n",
    "    An integer presenting the number of users\n",
    "    '''\n",
    "    \n",
    "    #create a list to store users\n",
    "    total_users = []\n",
    "    for uid, iid, true_r, est, _ in predictions:\n",
    "        if uid not in total_users:\n",
    "            total_users.append(uid)\n",
    "    \n",
    "    #return the length of list\n",
    "    num_users = len(total_users)\n",
    "    \n",
    "    return num_users\n",
    "\n",
    "#un_train_knn = get_unumber(train_knn)\n",
    "#un_test_knn = get_unumber(test_knn)\n",
    "#print(\"Number of users in training set:\", un_train_knn)\n",
    "#print(\"Number of users in test set:\",un_test_knn)"
   ]
  },
  {
   "cell_type": "code",
   "execution_count": 16,
   "metadata": {},
   "outputs": [],
   "source": [
    "#catalog-coverage for training set and test set\n",
    "\n",
    "def catalog_coverage(trainset, testset, n):\n",
    "    \"\"\"\n",
    "    Input: \n",
    "        trainset, testset - datasets predicted by a recommender system model, either training or test set\n",
    "        n - number of top n recommendations\n",
    "    \n",
    "    Output: \n",
    "        cat_train, cat_test - catalog coverage for training and test set\n",
    "    \n",
    "    \"\"\"\n",
    "    top_n_train =  get_topN_recommendations(trainset, n)\n",
    "    in_train = get_inumber(trainset)\n",
    "    #create a list to store the items recommended\n",
    "    cata_cov= []\n",
    "    for i in range(1, len(top_n_train) + 1):\n",
    "        for item in top_n_train[i]:\n",
    "            if item[0] not in cata_cov:\n",
    "                cata_cov.append(item[0])\n",
    "\n",
    "    cat_train = round(len(cata_cov) / in_train, 4)\n",
    "    print(\"Catalog-coverage for train:\", cat_train)\n",
    "    \n",
    "    top_n_test =  get_topN_recommendations(testset, n)\n",
    "    in_test = get_inumber(testset)\n",
    "    #create a list to store the items recommended\n",
    "    cata_cov= []\n",
    "    for i in range(1, len(top_n_test) + 1):\n",
    "        for item in top_n_test[i]:\n",
    "            if item[0] not in cata_cov:\n",
    "                cata_cov.append(item[0])\n",
    "\n",
    "    cat_test = round(len(cata_cov) / in_test, 4)\n",
    "    print(\"Catalog-coverage for test:\", cat_test)\n",
    "    \n",
    "    return cat_train, cat_test"
   ]
  },
  {
   "cell_type": "code",
   "execution_count": 17,
   "metadata": {},
   "outputs": [
    {
     "name": "stdout",
     "output_type": "stream",
     "text": [
      "Catalog-coverage for train: 0.2012\n",
      "Catalog-coverage for test: 0.227\n"
     ]
    },
    {
     "data": {
      "text/plain": [
       "(0.2012, 0.227)"
      ]
     },
     "execution_count": 17,
     "metadata": {},
     "output_type": "execute_result"
    }
   ],
   "source": [
    "catalog_coverage(train_knn, test_knn, 5)"
   ]
  },
  {
   "cell_type": "code",
   "execution_count": 18,
   "metadata": {},
   "outputs": [],
   "source": [
    "#user-coverage for training set and test set\n",
    "def user_cov(trainset, testset, n = 10,  k = 5):\n",
    "    '''Return the the number of users for which at least k items' ratings reach 4.5 from a recommendation dict.\n",
    "\n",
    "    Args:\n",
    "        top_n (A dict where keys are user (raw) ids and values are lists of tuples):\n",
    "        [(raw item id, rating estimation), ...] of size n.\n",
    "        k (int): Default is 5.\n",
    "    \n",
    "    Returns:\n",
    "        count_train, count_test: An integer presenting the number of users\n",
    "    '''\n",
    "    \n",
    "    top_n_train= get_topN_recommendations(trainset, n)\n",
    "    #create a dict to store the users' recommended items whose ratings reach 4.5\n",
    "    #count = count + 1 if the i-th user has more than k recommended well items\n",
    "    user_cover = defaultdict(list)\n",
    "    count_train = 0\n",
    "    for i in range(len(top_n_train)):\n",
    "        for item in top_n_train[i]:\n",
    "            if item[1] >= 4.5:\n",
    "                user_cover[i].append(item)\n",
    "        if len(user_cover[i]) >= k:\n",
    "            count_train += 1\n",
    "            \n",
    "    top_n_test= get_topN_recommendations(testset, n)\n",
    "    #create a dict to store the users' recommended items whose ratings reach 4.5\n",
    "    #count = count + 1 if the i-th user has more than k recommended well items\n",
    "    user_cover = defaultdict(list)\n",
    "    count_test = 0\n",
    "    for i in range(len(top_n_test)):\n",
    "        for item in top_n_test[i]:\n",
    "            if item[1] >= 4.5:\n",
    "                user_cover[i].append(item)\n",
    "        if len(user_cover[i]) >= k:\n",
    "            count_test += 1\n",
    "    \n",
    "    #calculate number of users for training and test sets\n",
    "    un_train = get_unumber(trainset)\n",
    "    un_test = get_unumber(testset)\n",
    "    \n",
    "    user_train = round(count_train/un_train, 4)\n",
    "    user_test = round(count_test/un_test, 4)\n",
    "    \n",
    "    print(\"User-coverage for training:\", user_train)\n",
    "    print(\"User-coverage for test:\", user_test)\n",
    "    \n",
    "    return user_train, user_test\n"
   ]
  },
  {
   "cell_type": "code",
   "execution_count": 19,
   "metadata": {},
   "outputs": [
    {
     "name": "stdout",
     "output_type": "stream",
     "text": [
      "User-coverage for training: 0.5918\n",
      "User-coverage for test: 0.0852\n"
     ]
    },
    {
     "data": {
      "text/plain": [
       "(0.5918, 0.0852)"
      ]
     },
     "execution_count": 19,
     "metadata": {},
     "output_type": "execute_result"
    }
   ],
   "source": [
    "user_cov(train_knn, test_knn, 5, 5)"
   ]
  },
  {
   "cell_type": "code",
   "execution_count": 20,
   "metadata": {},
   "outputs": [],
   "source": [
    "#item-coverage for training set and test set\n",
    "def item_cov(trainset, testset, n = 10, k = 1):\n",
    "    '''Return the the number of items at least recommended to k users \n",
    "       whose ratings reach 4.5 from a recommendation dict.\n",
    "\n",
    "    Args:\n",
    "        top_n (A dict where keys are user (raw) ids and values are lists of tuples):\n",
    "        [(raw item id, rating estimation), ...] of size n.\n",
    "        n (int): the total number of items of the dataset.\n",
    "        k (int): Default is 5.\n",
    "    \n",
    "    Returns:\n",
    "    An integar presenting the number of users\n",
    "    '''\n",
    "    \n",
    "    #calculate top n recommendations and number of items for training and test sets\n",
    "    top_n_train= get_topN_recommendations(trainset, n)\n",
    "    in_train = get_inumber(trainset)\n",
    "    #create a dict to store the items whose ratings reach 4.5 and the users they're recommended to\n",
    "    item_cover = defaultdict(list)\n",
    "    count_train = 0\n",
    "    for i in range(len(top_n_train)):\n",
    "        for item in top_n_train[i]:\n",
    "            if item[1] >= 4.5:\n",
    "                item_cover[item[0]].append(item)\n",
    "                \n",
    "    #count = count + 1 if the i-th item has more than k users\n",
    "    for i in range(in_train):\n",
    "        if len(item_cover[i]) >= k:\n",
    "            count_train += 1\n",
    "            \n",
    "    top_n_test= get_topN_recommendations(testset, n)\n",
    "    in_test = get_inumber(testset)\n",
    "    #create a dict to store the items whose ratings reach 4.5 and the users they're recommended to\n",
    "    item_cover = defaultdict(list)\n",
    "    count_test = 0\n",
    "    for i in range(len(top_n_test)):\n",
    "        for item in top_n_test[i]:\n",
    "            if item[1] >= 4.5:\n",
    "                item_cover[item[0]].append(item)\n",
    "                \n",
    "    #count = count + 1 if the i-th item has more than k users\n",
    "    for i in range(in_test):\n",
    "        if len(item_cover[i]) >= k:\n",
    "            count_test += 1            \n",
    "    item_train = round(count_train/in_train, 4)\n",
    "    item_test = round(count_test/in_test, 4)\n",
    "    \n",
    "    print(\"Item-coverage of training set:\", item_train)\n",
    "    print(\"Item-coverage of test set:\", item_test)\n",
    "    \n",
    "    return item_train, item_test\n"
   ]
  },
  {
   "cell_type": "code",
   "execution_count": 21,
   "metadata": {},
   "outputs": [
    {
     "name": "stdout",
     "output_type": "stream",
     "text": [
      "Item-coverage of training set: 0.1169\n",
      "Item-coverage of test set: 0.0476\n"
     ]
    },
    {
     "data": {
      "text/plain": [
       "(0.1169, 0.0476)"
      ]
     },
     "execution_count": 21,
     "metadata": {},
     "output_type": "execute_result"
    }
   ],
   "source": [
    "item_cov(train_knn, test_knn, 5)"
   ]
  },
  {
   "cell_type": "markdown",
   "metadata": {},
   "source": [
    "## Tune the Parameter\n",
    "\n",
    "    As we are using item-based collaberative filtering model, our hyper parameter is the number of nearest neighborhood (k). We will tune the parameter and explore the relationships between k and accuracy/coverage."
   ]
  },
  {
   "cell_type": "code",
   "execution_count": null,
   "metadata": {},
   "outputs": [],
   "source": [
    "#create a list of k\n",
    "num_k = range(5, 40, 5)\n",
    "#RMSE_train = []\n",
    "RMSE_test = []\n",
    "#MAE_train = []\n",
    "MAE_test = []\n",
    "c_cov_train = []\n",
    "c_cov_test = []\n",
    "u_cov_train = []\n",
    "u_cov_test = []\n",
    "i_cov_train = []\n",
    "i_cov_test = []\n",
    "\n",
    "ratings_training = ratings.sample(frac=0.7, random_state = 4571)\n",
    "ratings_test = ratings.drop(ratings_training.index)\n",
    "\n",
    "print(\"Compare different number of nearest neighbors\")\n",
    "for k in num_k:\n",
    "    #train the model\n",
    "\n",
    "    ratings_training = training.build_full_trainset()   \n",
    "    knn_pb = KNNBasic(sim_options = sim_options_pb, k = k)\n",
    "    knn_pb.fit(ratings_training)\n",
    "\n",
    "    testset = ratings_training.build_anti_testset()\n",
    "\n",
    "\n",
    "    #calculate the rmse and mae of training and test\n",
    "    train_knn = knn_pb.test(ratings_training.build_testset())\n",
    "    test_knn = knn_pb.test(testset)\n",
    "    \n",
    "    ratings_test['predRatings_Pearson_baseline'] = \"\"\n",
    "\n",
    "    for i in range(len(ratings_test)):\n",
    "        uid = ratings_test.iloc[i,0]\n",
    "        iid = ratings_test.iloc[i,1]\n",
    "        #pred = knn.predict(uid, iid, r_ui = 4, verbose = True)\n",
    "        rui = ratings_test.iloc[i,2]\n",
    "        pred_pb = knn_pb.predict(uid, iid, r_ui = rui, verbose = False)\n",
    "        #print(pred.est)\n",
    "        ratings_test.iloc[i,3] = round(pred_pb.est,1)\n",
    "\n",
    "    #calculate RMSE\n",
    "    rmse_pb = compute_RMSE(ratings_test.iloc[:,2], ratings_test.iloc[:,3])\n",
    "    RMSE_test.append(round(rmse_pb,4))\n",
    "    \n",
    "    #calculate MAE\n",
    "    mae_pb = compute_MAE(ratings_test.iloc[:,2], ratings_test.iloc[:,3])\n",
    "    MAE_test.append(round(mae_pb,4))\n",
    "    \n",
    "    \n",
    "    #catalog-coverage for training set and test set\n",
    "    cat_train, cat_test = catalog_coverage(train_knn, test_knn, 10)\n",
    "    \n",
    "    c_cov_train.append(cat_train)\n",
    "    c_cov_test.append(cat_test)\n",
    "   \n",
    "    #user-coverage for training and test set\n",
    "    user_train, user_test = user_cov(train_knn, test_knn, 10)\n",
    "    \n",
    "    \n",
    "    u_cov_train.append(user_train)\n",
    "    u_cov_test.append(user_test)\n",
    "    \n",
    "    #item-coverage for training and test set\n",
    "    item_train, item_test = item_cov(train_knn, test_knn, 10)\n",
    "    \n",
    "    i_cov_train.append(item_train)\n",
    "    i_cov_test.append(item_test)"
   ]
  },
  {
   "cell_type": "code",
   "execution_count": 23,
   "metadata": {},
   "outputs": [],
   "source": [
    "Tune_K = pd.DataFrame(\n",
    "    {'Number_of_K': num_k,\n",
    "     'RMSE_test': RMSE_test,\n",
    "     'MAE_test': MAE_test,\n",
    "     'Catalog_Coverage_train': c_cov_train,\n",
    "     'Catalog_Coverage_test': c_cov_test,\n",
    "     'User_Coverage_train': u_cov_train,\n",
    "     'User_Coverage_test': u_cov_test,\n",
    "     'Item_Coverage_train': i_cov_train,\n",
    "     'Item_Coverage_test': i_cov_test\n",
    "    })"
   ]
  },
  {
   "cell_type": "code",
   "execution_count": 24,
   "metadata": {},
   "outputs": [
    {
     "data": {
      "image/png": "[encoded data removed]",
      "text/plain": [
       "<Figure size 720x360 with 1 Axes>"
      ]
     },
     "metadata": {
      "needs_background": "light"
     },
     "output_type": "display_data"
    },
    {
     "data": {
      "image/png": "[encoded data removed]",
      "text/plain": [
       "<Figure size 720x360 with 1 Axes>"
      ]
     },
     "metadata": {
      "needs_background": "light"
     },
     "output_type": "display_data"
    },
    {
     "data": {
      "image/png": "[encoded data removed]",
      "text/plain": [
       "<Figure size 720x360 with 1 Axes>"
      ]
     },
     "metadata": {
      "needs_background": "light"
     },
     "output_type": "display_data"
    },
    {
     "data": {
      "image/png": "[encoded data removed]",
      "text/plain": [
       "<Figure size 720x360 with 1 Axes>"
      ]
     },
     "metadata": {
      "needs_background": "light"
     },
     "output_type": "display_data"
    }
   ],
   "source": [
    "fig = Tune_K.plot(x = 'Number_of_K', y = ['RMSE_test', 'MAE_test'],figsize = (10,5), grid = True, title = \"Number of k VS Accuracy\")\n",
    "plt.show()\n",
    "fig = Tune_K.plot(x = 'Number_of_K', y = ['Catalog_Coverage_train', 'Catalog_Coverage_test'],figsize = (10,5), grid = True, title = \"Number of k VS Catalog Coverage\")\n",
    "plt.show()\n",
    "fig = Tune_K.plot(x = 'Number_of_K', y = ['User_Coverage_train', 'User_Coverage_test'],figsize = (10,5), grid = True, title = \"Number of k VS User Coverage\")\n",
    "plt.show()\n",
    "fig = Tune_K.plot(x = 'Number_of_K', y = ['Item_Coverage_train', 'Item_Coverage_test'],figsize = (10,5), grid = True, title = \"Number of k VS Item Coverage\")\n",
    "plt.show()"
   ]
  },
  {
   "cell_type": "markdown",
   "metadata": {},
   "source": [
    "### Results\n",
    "\n",
    "     - Test Error: As the number of nearest neighbor increases, there is a decrease in both the RMSE and MAE for test set. \n",
    "\n",
    "     - Catalog Coverage: Although the larger number of nearest neighbor results in an increase of catalog coverage for the training set, the catalog coverage for test set actually decreases by a relatively small amount.\n",
    "\n",
    "     - User Coverage: User coverage for training set decreases with the increase of the number of nearest neighbor.\n",
    "\n",
    "     - Item Coverage: Although the larger number of nearest neighbor results in an increase of item coverage for the training set, the item coverage for test set actually decreases by a relatively small amount."
   ]
  },
  {
   "cell_type": "markdown",
   "metadata": {},
   "source": [
    "## Explore the relationship between model size and accuracy/run-time\n",
    "    - Try different subsets of the whole dataset\n",
    "    - Calculate accuracy and run-time for each subset\n",
    "    - Compare by the size of each subset"
   ]
  },
  {
   "cell_type": "code",
   "execution_count": 25,
   "metadata": {},
   "outputs": [
    {
     "name": "stdout",
     "output_type": "stream",
     "text": [
      "Estimating biases using als...\n",
      "Computing the pearson_baseline similarity matrix...\n",
      "Done computing similarity matrix.\n",
      "Estimating biases using als...\n",
      "Computing the pearson_baseline similarity matrix...\n",
      "Done computing similarity matrix.\n",
      "Estimating biases using als...\n",
      "Computing the pearson_baseline similarity matrix...\n",
      "Done computing similarity matrix.\n",
      "Estimating biases using als...\n",
      "Computing the pearson_baseline similarity matrix...\n",
      "Done computing similarity matrix.\n",
      "Estimating biases using als...\n",
      "Computing the pearson_baseline similarity matrix...\n",
      "Done computing similarity matrix.\n",
      "Estimating biases using als...\n",
      "Computing the pearson_baseline similarity matrix...\n",
      "Done computing similarity matrix.\n",
      "Estimating biases using als...\n",
      "Computing the pearson_baseline similarity matrix...\n",
      "Done computing similarity matrix.\n",
      "Estimating biases using als...\n",
      "Computing the pearson_baseline similarity matrix...\n",
      "Done computing similarity matrix.\n",
      "Estimating biases using als...\n",
      "Computing the pearson_baseline similarity matrix...\n",
      "Done computing similarity matrix.\n",
      "Estimating biases using als...\n",
      "Computing the pearson_baseline similarity matrix...\n",
      "Done computing similarity matrix.\n"
     ]
    }
   ],
   "source": [
    "import numpy as np\n",
    "import time\n",
    "ratings = pd.read_csv(\"ratings.csv\", usecols = ['userId', 'movieId', 'rating'])\n",
    "\n",
    "RMSE_sub = []\n",
    "exe_time_sub = []\n",
    "\n",
    "sub = np.arange(0.1, 1.1, 0.1)\n",
    "for prop in sub:\n",
    "    start_time = time.time()\n",
    "    ratings_sub = ratings.sample(frac = prop, random_state = 4571)\n",
    "    reader = Reader(rating_scale=(1, 5))\n",
    "    ratings_training = ratings_sub.sample(frac=0.7, random_state = 4571)\n",
    "    ratings_test = ratings_sub.drop(ratings_training.index)\n",
    "\n",
    "    training = Dataset.load_from_df(ratings_training,reader)\n",
    "    test = Dataset.load_from_df(ratings_test, reader)                                   \n",
    "\n",
    "    ratings_training = training.build_full_trainset()\n",
    "    sim_options_pb = {'name': 'pearson_baseline', 'user_based': False}\n",
    "\n",
    "    knn_pb = KNNBasic(sim_options = sim_options_pb)\n",
    "    knn_pb.fit(ratings_training)\n",
    "    \n",
    "    #prediction for test set\n",
    "    ratings_test['predRatings_Pearson_baseline'] = \"\"\n",
    "\n",
    "    for i in range(len(ratings_test)):\n",
    "        uid = ratings_test.iloc[i,0]\n",
    "        iid = ratings_test.iloc[i,1]\n",
    "        #pred = knn.predict(uid, iid, r_ui = 4, verbose = True)\n",
    "        rui = ratings_test.iloc[i,2]\n",
    "        pred_pb = knn_pb.predict(uid, iid, r_ui = rui, verbose = False)\n",
    "        #print(pred.est)\n",
    "        ratings_test.iloc[i,3] = round(pred_pb.est,1)\n",
    "\n",
    "    #calculate RMSE\n",
    "    rmse_pb = compute_RMSE(ratings_test.iloc[:,2], ratings_test.iloc[:,3])\n",
    "    RMSE_sub.append(round(rmse_pb,4))\n",
    "\n",
    "    #record execution time\n",
    "    exe_time = time.time() - start_time\n",
    "    exe_time_sub.append(round(exe_time, 4))"
   ]
  },
  {
   "cell_type": "code",
   "execution_count": 26,
   "metadata": {},
   "outputs": [
    {
     "data": {
      "image/png": "[encoded data removed]",
      "text/plain": [
       "<Figure size 432x288 with 2 Axes>"
      ]
     },
     "metadata": {
      "needs_background": "light"
     },
     "output_type": "display_data"
    }
   ],
   "source": [
    "RMSE_TIME = pd.DataFrame(\n",
    "    {'Proportion of dataset': sub,\n",
    "     'RMSE': RMSE_sub,\n",
    "     'Execution Time': exe_time_sub\n",
    "    })\n",
    "fig, ax1 = plt.subplots()\n",
    "\n",
    "ax2 = ax1.twinx()\n",
    "ax1.plot(RMSE_TIME['Proportion of dataset'], RMSE_TIME['RMSE'], 'b-')\n",
    "ax2.plot(RMSE_TIME['Proportion of dataset'], RMSE_TIME['Execution Time'], 'r-')\n",
    "\n",
    "ax1.set_xlabel('Proportion of dataset')\n",
    "ax1.set_ylabel('RMSE', color = 'b')\n",
    "ax2.set_ylabel('Execution Time (in sec)', color = 'r')\n",
    "\n",
    "\n",
    "plt.show()"
   ]
  },
  {
   "cell_type": "markdown",
   "metadata": {},
   "source": [
    "### Results\n",
    "\n",
    "    Both the overall accuracy and the execution time goes up (RMSE goes down) when the sample size is increasing, which meets our expectation."
   ]
  },
  {
   "cell_type": "markdown",
   "metadata": {},
   "source": [
    "## Conclusion\n",
    "\n",
    " In this project we implemented item-based CF algorithm and applied it to the MovieLens dataset, which yields to an optimal RMSE of 0.92 when the number of nearest neighbors is 35. The test error and the user coverage are optimized with an increase of the number of nearest neighbors considered when building the model. However, if we compare the result with what matrix factorization achieves, we would find that MF provides a more accurate and more efficient solution of this problem."
   ]
  }
 ],
 "metadata": {
  "kernelspec": {
   "display_name": "Python 3",
   "language": "python",
   "name": "python3"
  },
  "language_info": {
   "codemirror_mode": {
    "name": "ipython",
    "version": 3
   },
   "file_extension": ".py",
   "mimetype": "text/x-python",
   "name": "python",
   "nbconvert_exporter": "python",
   "pygments_lexer": "ipython3",
   "version": "3.6.8"
  }
 },
 "nbformat": 4,
 "nbformat_minor": 2
}
